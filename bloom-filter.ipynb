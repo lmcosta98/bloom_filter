{
 "cells": [
  {
   "cell_type": "markdown",
   "id": "bbee818a",
   "metadata": {
    "papermill": {
     "duration": 0.007395,
     "end_time": "2021-11-11T11:55:12.542497",
     "exception": false,
     "start_time": "2021-11-11T11:55:12.535102",
     "status": "completed"
    },
    "tags": []
   },
   "source": [
    "# Report - Bloom Filter"
   ]
  },
  {
   "cell_type": "markdown",
   "id": "17249a54",
   "metadata": {},
   "source": [
    "    \n",
    "   ### Bloom Filter\n",
    "   **Bloom Filter** is a probabilistic data structure that is used to see if certain information is in a data set, which means that it can tell us with certainty that the element is not in the set but not so much if it is.\n",
    "    \n",
    "   How does a Bloom Filter work? It combines ideas from HashSets and bitsets into a single data structure. So, we create a bitset with m bits in it, and then we’ll hash each element using k hashing functions. Now each element occupies k bitset entries. \n",
    "    \n",
    "   When we want to check if an element is present in the filter, we must use the same hashing functions used in the entire set. If all entries determine 1, the element is in the bloom filters. But if one or more entries determine a 0, the element isn’t present in the filter. \n",
    "    \n",
    "   In some cases, all entries may determine 1 with an element that isn’t in the filter. This is when the probabilistic nature of the filter manifests itself, by giving us false positives. This probability can be calculated using the variables of numbers of hash functions, k, capacity, c, and the number of bits, m:  $$ {(1\\ -\\ e^{-kc/m})}^k $$\n",
    "    \n",
    "   Because it’s very space-efficient since the elements themselves are not added to a set but rather a hash of the elements, they are good for applications where space is needed, and the false positive probability is not a concern.\n",
    "\n",
    "   ### Possible application of the algorithm:\n",
    "\n",
    "   The implemented application emulates a software whose goal is to prevent frauds in the transactions that go through a banking institution. This detection is made through a verication of a person's NIF.\n",
    "\n",
    "   A simple implementation of this would be to put every known NIF classified as fraudulent in a database and for every transaction, we analyze to see if the NIF involved in the transaction is in the set. Being aware of the false positive probability, the bank will then verify if the transactions classified as fraudulent are so indeed.\n",
    "   \n",
    "   There have been provided two small and simple interfaces. One to mock a user's use case and another to mock a bank employee's use case.\n",
    "   \n",
    "   In this mock implementation the filter has been loaded with **5 million** entries. Even with this ammount of entries, the loading time for NIF lookups is extremely short, being almost instantaneous, thus demonstrating the power of the algorithm to deal with large ammounts of data.\n",
    "\n",
    "   **User's use case:**\n",
    "   \n",
    "   When someone is trying to make a transaction, the banking software makes a call to an \"API\" whose goal is to verify the validity of the inserted NIF. In this implementation, the call will be made directly to the bloom filter's method **is_member()**, but in the real world this should be done with an higher level of abstraction, thus using an API.\n",
    "    \n",
    "   If the tax identification number (NIF) of the person that is performing the transaction exists in a set of NIF’s classified as fraudulent, then that transaction should be denied, giving the user an option to appeal to the banking institution. Otherwise, the transaction can be approved, with certainty that the inserted NIF is not fraudulent. This certainty is ensured by the nature of bloom filters, which cannot give false positives.\n",
    "   \n",
    "   Another feature at the user's disposal is the reporting option. If they have been scammed by a certain NIF, they can report it to the banking institution. After a certain number of reports, that NIF is automatically added to the filter.\n",
    "   \n",
    "   **Employee's use case:**\n",
    "    \n",
    "   The bank employee has three features at his disposal. The first one is to see a list of appeals that have been made since it last logged on to the system. The second is to check reported NIFs that have not yet achieved the threshold, having the possibility to confirm or whitelist them. The last option at his disposal is to check some statistics regarding the filter. \n",
    "    \n",
    "    \n",
    "   ### Packages used:\n",
    "    \n",
    "   **Math** is a Python package that provides access to mathematical functions. This package has been used in order to implement the mathematical functions that define the optimal number of bits ***m*** and the optimal number of hash functions ***k***, in order to store ***n*** different entries with ***p*** probability of false positives.\n",
    "    \n",
    "   **Mmh3** is a Python library for MurmurHash with a set of fast and robust hash functions. These hash functions are based on two simple operations, multiplication and rotation. Due to their simplicity, these hash function are more suited to be used in algorithms such as bloom filters, rather than being used in criptographic applications. \n",
    "   \n",
    "   This package has been used in order to hash the NIFs prior to being added to bloom filter. This hashing of the NIFs is what determines which bits are to be set to one on the bloom filter.\n",
    "    \n",
    "   **Bitarray** is a library that provides an object type which efficiently represents an array of Booleans. This package as been used in order to create an array of bits, all set to zero, in order to implement the bloom filter algorithm.\n",
    "\n",
    "    \n"
   ]
  },
  {
   "cell_type": "markdown",
   "id": "a89c416b",
   "metadata": {},
   "source": [
    "# Algorithm Implementation"
   ]
  },
  {
   "cell_type": "markdown",
   "id": "2a12b878",
   "metadata": {},
   "source": [
    "### Import Section"
   ]
  },
  {
   "cell_type": "code",
   "execution_count": null,
   "id": "17e15fad",
   "metadata": {
    "execution": {
     "iopub.execute_input": "2021-11-11T11:55:12.563121Z",
     "iopub.status.busy": "2021-11-11T11:55:12.561859Z",
     "iopub.status.idle": "2021-11-11T11:55:12.566011Z",
     "shell.execute_reply": "2021-11-11T11:55:12.565358Z"
    },
    "papermill": {
     "duration": 0.016704,
     "end_time": "2021-11-11T11:55:12.566182",
     "exception": false,
     "start_time": "2021-11-11T11:55:12.549478",
     "status": "completed"
    },
    "tags": []
   },
   "outputs": [],
   "source": [
    "# Section dedicated to the imports\n",
    "import mmh3\n",
    "import math\n",
    "from bitarray import bitarray"
   ]
  },
  {
   "cell_type": "markdown",
   "id": "63448b48",
   "metadata": {},
   "source": [
    "### Bloom Filter implementation"
   ]
  },
  {
   "cell_type": "code",
   "execution_count": null,
   "id": "cf068818",
   "metadata": {
    "_cell_guid": "b1076dfc-b9ad-4769-8c92-a6c4dae69d19",
    "_uuid": "8f2839f25d086af736a60e9eeb907d3b93b6e0e5",
    "execution": {
     "iopub.execute_input": "2021-11-11T11:55:12.583843Z",
     "iopub.status.busy": "2021-11-11T11:55:12.583003Z",
     "iopub.status.idle": "2021-11-11T11:55:12.602006Z",
     "shell.execute_reply": "2021-11-11T11:55:12.602502Z",
     "shell.execute_reply.started": "2021-11-10T22:53:25.129327Z"
    },
    "papermill": {
     "duration": 0.029476,
     "end_time": "2021-11-11T11:55:12.602708",
     "exception": false,
     "start_time": "2021-11-11T11:55:12.573232",
     "status": "completed"
    },
    "tags": []
   },
   "outputs": [],
   "source": [
    "\n",
    "class BloomFilter:\n",
    "    \n",
    "    # Initializes the BloomFilter\n",
    "    def __init__(self, num_itens, error_percent):\n",
    "        # Bloom filter size for N members with X % probability of error, according to the formula present on Wikipedia\n",
    "        self.size = math.ceil(-(num_itens * math.log(error_percent/100))/(math.log(2)**2))\n",
    "        \n",
    "        # Calculate the ideal number of hash function, according to the formula present on Wikipedia\n",
    "        self.num_hashes = round((self.size/num_itens) * math.log(2))\n",
    "        \n",
    "        # Instance a bitarray with the calculated size a set it all to zeros\n",
    "        self.filter = bitarray(self.size)\n",
    "        self.filter.setall(0)\n",
    "        self.num_members = 0\n",
    "        \n",
    "    \n",
    "    \n",
    "    # Hashes the NIB and adds it to the filter.\n",
    "    def add_element(self, nib):\n",
    "        for t in range(self.num_hashes):\n",
    "            index = mmh3.hash(nib, t) % self.size\n",
    "            self.filter[index] = 1\n",
    "        self.num_members += 1\n",
    "        return\n",
    "    \n",
    "    \n",
    "    # Check whether the NIB is present in the filter\n",
    "    def is_member(self, nib):\n",
    "        for t in range(self.num_hashes):\n",
    "            index = mmh3.hash(nib, t) % self.size\n",
    "            if self.filter[index] == 0:\n",
    "                return False\n",
    "        return True\n",
    "    \n",
    "    # Auxiliary functions just to see some statistics regarding the filter.\n",
    "    def get_bloom(self):\n",
    "        return self.filter\n",
    "    \n",
    "    def get_num_hashes(self):\n",
    "        return self.num_hashes\n",
    "    \n",
    "    def get_filter_size(self):\n",
    "        return self.size\n",
    "    \n",
    "    def get_number_of_members(self):\n",
    "        return self.num_members\n",
    "    "
   ]
  },
  {
   "cell_type": "markdown",
   "id": "56fd1a71",
   "metadata": {},
   "source": [
    "### Some small tests"
   ]
  },
  {
   "cell_type": "code",
   "execution_count": null,
   "id": "831acb79",
   "metadata": {
    "execution": {
     "iopub.execute_input": "2021-11-11T11:55:12.623072Z",
     "iopub.status.busy": "2021-11-11T11:55:12.622516Z",
     "iopub.status.idle": "2021-11-11T11:55:12.626491Z",
     "shell.execute_reply": "2021-11-11T11:55:12.626021Z",
     "shell.execute_reply.started": "2021-11-10T22:53:25.143603Z"
    },
    "papermill": {
     "duration": 0.017075,
     "end_time": "2021-11-11T11:55:12.626631",
     "exception": false,
     "start_time": "2021-11-11T11:55:12.609556",
     "status": "completed"
    },
    "tags": []
   },
   "outputs": [],
   "source": [
    "# Tests just to see if the base implementation is working as expected.\n",
    "\n",
    "# Instancing the bloom filter for 3 elements and 1% chance of false positives\n",
    "bloom = BloomFilter(3, 1)\n",
    "\n",
    "# Adding some mock NIBs to the filter\n",
    "nib = 'PT 42531'\n",
    "nib2 = 'PT 3455'\n",
    "nib3 = 'PT 23452'\n",
    "bloom.add_element(nib)\n",
    "bloom.add_element(nib)\n",
    "bloom.add_element(nib2)\n",
    "\n",
    "# Printing some statistics\n",
    "print('Contents of the filter:\\n->',bloom.get_bloom())\n",
    "print('Filter size:\\n->', bloom.get_filter_size())\n",
    "print('Ideal number of hashes:\\n->', bloom.get_num_hashes())\n",
    "\n",
    "# Checking if the elements are present or not\n",
    "print(f'\\nIs \\\"{nib}\\\" a member of the filter?\\n->',bloom.is_member(nib))\n",
    "print(f'\\nIs \\\"{nib2}\\\" a member of the filter?\\n->',bloom.is_member(nib2))\n",
    "print(f'\\nIs \\\"{nib3}\\\" a member of the filter?\\n->',bloom.is_member(nib3))\n"
   ]
  },
  {
   "cell_type": "markdown",
   "id": "a1a851af",
   "metadata": {},
   "source": [
    "### Instancing the filter for our application"
   ]
  },
  {
   "cell_type": "code",
   "execution_count": null,
   "id": "9cedd74a",
   "metadata": {},
   "outputs": [],
   "source": [
    "# Initial instancing\n",
    "size = 5001000\n",
    "prob = 0.001\n",
    "\n",
    "bloom_filter = BloomFilter(size, prob)\n",
    "\n",
    "# Inital data import\n",
    "with open('data_nifs.csv', 'r') as file:\n",
    "    for line in file:\n",
    "        bloom_filter.add_element(str(line.strip()))\n"
   ]
  },
  {
   "cell_type": "code",
   "execution_count": null,
   "id": "ab5e38d9",
   "metadata": {},
   "outputs": [],
   "source": [
    "# Auxiliar structures for the application\n",
    "appeal_nifs = []\n",
    "reported_nifs = {}"
   ]
  },
  {
   "cell_type": "code",
   "execution_count": null,
   "id": "9c85d93d",
   "metadata": {},
   "outputs": [],
   "source": [
    "# list of fraudulent nifs extracted from the csv\n",
    "#[728822881, 994241283, 333328302, 991793366, 789461803, 758735022, 684045672, 724369198, 775089419, 295959770]"
   ]
  },
  {
   "cell_type": "markdown",
   "id": "ec83d18d",
   "metadata": {},
   "source": [
    "### User's Interface"
   ]
  },
  {
   "cell_type": "code",
   "execution_count": null,
   "id": "f90cfdf2",
   "metadata": {
    "scrolled": false
   },
   "outputs": [],
   "source": [
    "print('Welcome to the TMBD bank of choice!\\nWe are now running a service to check whether a NIF is fraudulent.')\n",
    "while True:\n",
    "    choice = input('\\nDo you: \\n1) Intend to make a transaction \\n2) Report a fraudulent NIF\\n3) Quit\\n\\n')\n",
    "    if choice == '1':\n",
    "        print('Please enter your receipt data.\\n')\n",
    "        name = input('Name: ')\n",
    "        nif = input('NIF: ')\n",
    "        ammount = input('Ammount: ')\n",
    "        \n",
    "        print('\\nPlease hold while we verify your transaction...\\n')\n",
    "        if bloom_filter.is_member(nif):\n",
    "            print('The inserted NIF has been identified as a fraudulent one.')            \n",
    "            answer = input('Do you wish to appeal? [Y/N] \\n')\n",
    "            if answer == 'Y':\n",
    "                appeal_nifs.append(nif)\n",
    "                print('Your appeal has been registered.\\n')\n",
    "        else:\n",
    "            print('Your transaction has been approved!\\n')\n",
    "            \n",
    "    elif choice == '2':\n",
    "        fraud_nif = input('\\nPlease enter the NIF you want to report:\\n')\n",
    "        \n",
    "        if fraud_nif not in reported_nifs.keys():\n",
    "            reported_nifs[fraud_nif] = 1\n",
    "        else:\n",
    "            if (reported_nifs[fraud_nif] + 1) >= 5:\n",
    "                bloom_filter.add_element(fraud_nif)\n",
    "                reported_nifs.pop(fraud_nif)\n",
    "            else:\n",
    "                reported_nifs[fraud_nif] += 1\n",
    "\n",
    "        print('\\nThank you for your report!')\n",
    "\n",
    "    elif choice == '3': \n",
    "        break"
   ]
  },
  {
   "cell_type": "markdown",
   "id": "9114b81c",
   "metadata": {},
   "source": [
    "### Employee's Interface"
   ]
  },
  {
   "cell_type": "code",
   "execution_count": null,
   "id": "d1ca8c69",
   "metadata": {},
   "outputs": [],
   "source": [
    "print('Hello employee.')\n",
    "while True:\n",
    "    op = input('\\nWhat do you want to check? \\n1) Appealed NIFs \\n2) Reported NIFs \\n3) Filter statistics \\n4) Quit\\n\\n')\n",
    "    if op == '1':\n",
    "        print(appeal_nifs)\n",
    "    elif op == '2':\n",
    "        print(reported_nifs)\n",
    "        if reported_nifs != {}:\n",
    "            ans = input('Do you wish to [R]emove or [C]onfirm a NIF?\\n')\n",
    "        \n",
    "            if ans.lower() == 'c':\n",
    "                nif = input('Please enter the NIF you want to mark as fraudulent: \\n')\n",
    "                bloom_filter.add_element(nif)\n",
    "                print(f'The following NIF has been added to the filter: {nif}')\n",
    "        \n",
    "            elif ans.lower() == 'r':\n",
    "                nif = input('Please enter the NIF you want to whitelist: \\n')\n",
    "                reported_nifs.pop(nif)\n",
    "                print(f'The following NIF has been whitelisted: {nif}')\n",
    "\n",
    "    elif op == '3':\n",
    "        print(f'\\nThe filter is using {bloom_filter.get_filter_size()} bits')\n",
    "        print(f'\\nWe are currently using {bloom_filter.get_num_hashes()} hash functions.')\n",
    "        print(f'\\nWe have identified {bloom_filter.get_number_of_members()} fraudulent NIFs.')\n",
    "    elif op == '4':\n",
    "        break"
   ]
  }
 ],
 "metadata": {
  "kernelspec": {
   "display_name": "Python 3",
   "language": "python",
   "name": "python3"
  },
  "language_info": {
   "codemirror_mode": {
    "name": "ipython",
    "version": 3
   },
   "file_extension": ".py",
   "mimetype": "text/x-python",
   "name": "python",
   "nbconvert_exporter": "python",
   "pygments_lexer": "ipython3",
   "version": "3.8.8"
  },
  "papermill": {
   "default_parameters": {},
   "duration": 12.322241,
   "end_time": "2021-11-11T11:55:13.473306",
   "environment_variables": {},
   "exception": null,
   "input_path": "__notebook__.ipynb",
   "output_path": "__notebook__.ipynb",
   "parameters": {},
   "start_time": "2021-11-11T11:55:01.151065",
   "version": "2.3.3"
  }
 },
 "nbformat": 4,
 "nbformat_minor": 5
}
