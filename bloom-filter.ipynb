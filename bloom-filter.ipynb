{
 "cells": [
  {
   "cell_type": "markdown",
   "metadata": {
    "papermill": {
     "duration": 0.007395,
     "end_time": "2021-11-11T11:55:12.542497",
     "exception": false,
     "start_time": "2021-11-11T11:55:12.535102",
     "status": "completed"
    },
    "tags": []
   },
   "source": [
    "# **Bloom Filter**"
   ]
  },
  {
   "cell_type": "markdown",
   "metadata": {},
   "source": [
    "    \n",
    "   **Bloom Filter** is a probabilistic data structure that is used to see if certain information is in a data set, which means that it can tell us with certainty that the element is not in the set but not so much if it is.\n",
    "    \n",
    "   How does a Bloom Filter work? It combines ideas from HashSets and bitsets into a single data structure. So, we create a bitset with m bits in it, and then we’ll hash each element using k hashing functions. Now each element occupies k bitset entries. \n",
    "    \n",
    "   When we want to check if an element is present in the filter, we must use the same hashing functions used in the entire set. If all entries determine 1, the element is in the bloom filters. But if one or more entries determine a 0, the element isn’t present in the filter. \n",
    "    \n",
    "   In some cases, all entries may determine 1 with an element that isn’t in the filter. This is when the probabilistic nature of the filter manifests itself, by giving us false positives. This probability can be calculated using the variables of numbers of hash functions, k, capacity, c, and the number of bits, m:  $$ {(1\\ -\\ e^{-kc/m})}^k $$\n",
    "    \n",
    "   Because it’s very space-efficient since the elements themselves are not added to a set but rather a hash of the elements, they are good for applications where space is needed, and the false positive probability is not a concern.\n",
    "\n",
    "   **Possible application of the algorithm:**\n",
    "\n",
    "   Create a software whose goal is to prevent frauds in the transactions that go through a banking institution.\n",
    "    \n",
    "   If the tax identification number (NIF) of the person that is performing the transaction exists in a set of NIF’s classified as fraudulent, then that transaction should be denied. \n",
    "    \n",
    "   A simple implementation of this would be to put every known NIF classified as fraudulent in a database and for every transaction, we analyze to see if the NIF involved in the transaction is in the set. Being aware of the false positive probability, the bank will then verify if the transactions classified as fraudulent are so indeed.\n",
    "    \n",
    "   **Packages used:**\n",
    "    \n",
    "   Math is a Python package that provides access to mathematical functions.\n",
    "    \n",
    "   Mmh3 is a Python library for MurmurHash with a set of fast and robust hash functions.\n",
    "    \n",
    "   Bitarray is a library that provides an object type which efficiently represents an array of Booleans. \n",
    "\n",
    "    \n"
   ]
  },
  {
   "cell_type": "code",
   "execution_count": 1,
   "metadata": {
    "execution": {
     "iopub.execute_input": "2021-11-11T11:55:12.563121Z",
     "iopub.status.busy": "2021-11-11T11:55:12.561859Z",
     "iopub.status.idle": "2021-11-11T11:55:12.566011Z",
     "shell.execute_reply": "2021-11-11T11:55:12.565358Z"
    },
    "papermill": {
     "duration": 0.016704,
     "end_time": "2021-11-11T11:55:12.566182",
     "exception": false,
     "start_time": "2021-11-11T11:55:12.549478",
     "status": "completed"
    },
    "tags": []
   },
   "outputs": [],
   "source": [
    "# Section dedicated to the imports\n",
    "import mmh3\n",
    "import math\n",
    "from bitarray import bitarray"
   ]
  },
  {
   "cell_type": "code",
   "execution_count": 20,
   "metadata": {
    "_cell_guid": "b1076dfc-b9ad-4769-8c92-a6c4dae69d19",
    "_uuid": "8f2839f25d086af736a60e9eeb907d3b93b6e0e5",
    "execution": {
     "iopub.execute_input": "2021-11-11T11:55:12.583843Z",
     "iopub.status.busy": "2021-11-11T11:55:12.583003Z",
     "iopub.status.idle": "2021-11-11T11:55:12.602006Z",
     "shell.execute_reply": "2021-11-11T11:55:12.602502Z",
     "shell.execute_reply.started": "2021-11-10T22:53:25.129327Z"
    },
    "papermill": {
     "duration": 0.029476,
     "end_time": "2021-11-11T11:55:12.602708",
     "exception": false,
     "start_time": "2021-11-11T11:55:12.573232",
     "status": "completed"
    },
    "tags": []
   },
   "outputs": [],
   "source": [
    "\n",
    "class BloomFilter:\n",
    "    \n",
    "    # Initializes the BloomFilter\n",
    "    def __init__(self, num_itens, error_percent):\n",
    "        # Bloom filter size for N members with X % probability of error, according to the formula present on Wikipedia\n",
    "        self.size = math.ceil(-(num_itens * math.log(error_percent/100))/(math.log(2)**2))\n",
    "        \n",
    "        # Calculate the ideal number of hash function, according to the formula present on Wikipedia\n",
    "        self.num_hashes = round((self.size/num_itens) * math.log(2))\n",
    "        \n",
    "        # Instance a bitarray with the calculated size a set it all to zeros\n",
    "        self.filter = bitarray(self.size)\n",
    "        self.filter.setall(0)\n",
    "        \n",
    "    \n",
    "    \n",
    "    # Hashes the NIB and adds it to the filter.\n",
    "    def add_element(self, nib):\n",
    "        for t in range(self.num_hashes):\n",
    "            index = mmh3.hash(nib, t) % self.size\n",
    "            self.filter[index] = 1        \n",
    "        return\n",
    "    \n",
    "    \n",
    "    # Check whether the NIB is present in the filter\n",
    "    def is_member(self, nib):\n",
    "        for t in range(self.num_hashes):\n",
    "            index = mmh3.hash(nib, t) % self.size\n",
    "            if self.filter[index] == 0:\n",
    "                return False\n",
    "        return True\n",
    "    \n",
    "    # Auxiliary functions just to see some statistics regarding the filter.\n",
    "    def get_bloom(self):\n",
    "        return self.filter\n",
    "    \n",
    "    def get_num_hashes(self):\n",
    "        return self.num_hashes\n",
    "    \n",
    "    def get_filter_size(self):\n",
    "        return self.size\n",
    "    "
   ]
  },
  {
   "cell_type": "code",
   "execution_count": 23,
   "metadata": {
    "execution": {
     "iopub.execute_input": "2021-11-11T11:55:12.623072Z",
     "iopub.status.busy": "2021-11-11T11:55:12.622516Z",
     "iopub.status.idle": "2021-11-11T11:55:12.626491Z",
     "shell.execute_reply": "2021-11-11T11:55:12.626021Z",
     "shell.execute_reply.started": "2021-11-10T22:53:25.143603Z"
    },
    "papermill": {
     "duration": 0.017075,
     "end_time": "2021-11-11T11:55:12.626631",
     "exception": false,
     "start_time": "2021-11-11T11:55:12.609556",
     "status": "completed"
    },
    "tags": []
   },
   "outputs": [
    {
     "name": "stdout",
     "output_type": "stream",
     "text": [
      "Contents of the filter:\n",
      "-> bitarray('00110010110000101010110010111')\n",
      "Filter size:\n",
      "-> 29\n",
      "Ideal number of hashes:\n",
      "-> 7\n",
      "\n",
      "Is \"PT 42531\" a member of the filter?\n",
      "-> True\n",
      "\n",
      "Is \"PT 3455\" a member of the filter?\n",
      "-> True\n",
      "\n",
      "Is \"PT 23452\" a member of the filter?\n",
      "-> False\n"
     ]
    }
   ],
   "source": [
    "# Tests just to see if the base implementation is working as expected.\n",
    "\n",
    "# Instancing the bloom filter for 3 elements and 1% chance of false positives\n",
    "bloom = BloomFilter(3, 1)\n",
    "\n",
    "# Adding some mock NIBs to the filter\n",
    "nib = 'PT 42531'\n",
    "nib2 = 'PT 3455'\n",
    "nib3 = 'PT 23452'\n",
    "bloom.add_element(nib)\n",
    "bloom.add_element(nib)\n",
    "bloom.add_element(nib2)\n",
    "\n",
    "# Printing some statistics\n",
    "print('Contents of the filter:\\n->',bloom.get_bloom())\n",
    "print('Filter size:\\n->', bloom.get_filter_size())\n",
    "print('Ideal number of hashes:\\n->', bloom.get_num_hashes())\n",
    "\n",
    "# Checking if the elements are present or not\n",
    "print(f'\\nIs \\\"{nib}\\\" a member of the filter?\\n->',bloom.is_member(nib))\n",
    "print(f'\\nIs \\\"{nib2}\\\" a member of the filter?\\n->',bloom.is_member(nib2))\n",
    "print(f'\\nIs \\\"{nib3}\\\" a member of the filter?\\n->',bloom.is_member(nib3))\n"
   ]
  },
  {
   "cell_type": "code",
   "execution_count": 32,
   "metadata": {},
   "outputs": [
    {
     "name": "stdout",
     "output_type": "stream",
     "text": [
      "True\n"
     ]
    }
   ],
   "source": [
    "# Initial instancing\n",
    "size = 100000\n",
    "prob = 0.5\n",
    "\n",
    "bloom_filter = BloomFilter(size, prob)\n",
    "\n",
    "# Inital data import\n",
    "with open('data_nifs.csv', 'r') as file:\n",
    "    for line in file:\n",
    "        bloom_filter.add_element(str(line.strip()))\n",
    "        \n",
    "print(bloom_filter.is_member('582914276'))\n"
   ]
  },
  {
   "cell_type": "code",
   "execution_count": null,
   "metadata": {
    "papermill": {
     "duration": 0.004959,
     "end_time": "2021-11-11T11:55:12.657221",
     "exception": false,
     "start_time": "2021-11-11T11:55:12.652262",
     "status": "completed"
    },
    "tags": []
   },
   "outputs": [],
   "source": []
  }
 ],
 "metadata": {
  "kernelspec": {
   "display_name": "Python 3",
   "language": "python",
   "name": "python3"
  },
  "language_info": {
   "codemirror_mode": {
    "name": "ipython",
    "version": 3
   },
   "file_extension": ".py",
   "mimetype": "text/x-python",
   "name": "python",
   "nbconvert_exporter": "python",
   "pygments_lexer": "ipython3",
   "version": "3.8.3"
  },
  "papermill": {
   "default_parameters": {},
   "duration": 12.322241,
   "end_time": "2021-11-11T11:55:13.473306",
   "environment_variables": {},
   "exception": null,
   "input_path": "__notebook__.ipynb",
   "output_path": "__notebook__.ipynb",
   "parameters": {},
   "start_time": "2021-11-11T11:55:01.151065",
   "version": "2.3.3"
  }
 },
 "nbformat": 4,
 "nbformat_minor": 5
}
