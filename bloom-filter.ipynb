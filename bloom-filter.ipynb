{
 "cells": [
  {
   "cell_type": "markdown",
   "id": "68b47ea3",
   "metadata": {
    "papermill": {
     "duration": 0.007395,
     "end_time": "2021-11-11T11:55:12.542497",
     "exception": false,
     "start_time": "2021-11-11T11:55:12.535102",
     "status": "completed"
    },
    "tags": []
   },
   "source": [
    "# **Bloom Filter**"
   ]
  },
  {
   "cell_type": "code",
   "execution_count": 1,
   "id": "25899717",
   "metadata": {
    "execution": {
     "iopub.execute_input": "2021-11-11T11:55:12.563121Z",
     "iopub.status.busy": "2021-11-11T11:55:12.561859Z",
     "iopub.status.idle": "2021-11-11T11:55:12.566011Z",
     "shell.execute_reply": "2021-11-11T11:55:12.565358Z"
    },
    "papermill": {
     "duration": 0.016704,
     "end_time": "2021-11-11T11:55:12.566182",
     "exception": false,
     "start_time": "2021-11-11T11:55:12.549478",
     "status": "completed"
    },
    "tags": []
   },
   "outputs": [],
   "source": [
    "# Section dedicated to the imports"
   ]
  },
  {
   "cell_type": "code",
   "execution_count": 2,
   "id": "73eede0d",
   "metadata": {
    "_cell_guid": "b1076dfc-b9ad-4769-8c92-a6c4dae69d19",
    "_uuid": "8f2839f25d086af736a60e9eeb907d3b93b6e0e5",
    "execution": {
     "iopub.execute_input": "2021-11-11T11:55:12.583843Z",
     "iopub.status.busy": "2021-11-11T11:55:12.583003Z",
     "iopub.status.idle": "2021-11-11T11:55:12.602006Z",
     "shell.execute_reply": "2021-11-11T11:55:12.602502Z",
     "shell.execute_reply.started": "2021-11-10T22:53:25.129327Z"
    },
    "papermill": {
     "duration": 0.029476,
     "end_time": "2021-11-11T11:55:12.602708",
     "exception": false,
     "start_time": "2021-11-11T11:55:12.573232",
     "status": "completed"
    },
    "tags": []
   },
   "outputs": [],
   "source": [
    "\n",
    "class BloomFilter:\n",
    "    \n",
    "    # Initializes the BloomFilter\n",
    "    def __init__(self):\n",
    "        self.filter = {}\n",
    "        \n",
    "        \n",
    "    # Hash the NIB and return the hashed value.\n",
    "    # This hash will be a key in the dictionary.\n",
    "    # TODO: choose a hash function\n",
    "    def hash_key(self, nib):\n",
    "        hash_key = nib*2\n",
    "        return hash_key\n",
    "    \n",
    "    \n",
    "    # Hash the NIB and return the hashed value.\n",
    "    # This hash will be added to a list of values correspondent to a certain key.\n",
    "    # This hash function is perpendicular to the first hash function.\n",
    "    # TODO: choose a hash function\n",
    "    def hash_value(self, nib):\n",
    "        hash_value = nib*3\n",
    "        return hash_value\n",
    "    \n",
    "    \n",
    "    # Hashes the NIB and adds it to the filter.\n",
    "    # The function checks if the first hash (\"key hash\") is already present in the filter.\n",
    "    # If not, a new entry is created for that key. \n",
    "    # If the \"key hash\" is already present, the \"value hash\"\n",
    "    # is added to the list correspondent to the key.\n",
    "    def add_element(self, nib):\n",
    "        key_hash = self.hash_key(nib)\n",
    "        value_hash = self.hash_value(nib)\n",
    "        if key_hash not in self.filter.keys():\n",
    "            self.filter[key_hash] = [value_hash]\n",
    "        else:\n",
    "            self.filter[key_hash].append(value_hash)\n",
    "        return\n",
    "    \n",
    "    \n",
    "    # Check whether the NIB is present in the filter\n",
    "    # Starts by obtaining the \"key hash\". If the key is not present \n",
    "    # on the dictionary's keys returns False.\n",
    "    # If it is, check whether the value is present on the \"hash values\" \n",
    "    # list and returns accordingly.\n",
    "    def is_member(self, nib):\n",
    "        key_hash = self.hash_key(nib)\n",
    "        if key_hash in self.filter.keys():\n",
    "            value_hash = self.hash_value(nib)\n",
    "            if value_hash in self.filter[key_hash]:\n",
    "                return True\n",
    "        return False\n",
    "    \n",
    "    \n",
    "    # Auxiliary function just to see the contents of the filter.\n",
    "    # Only for debugging. To be removed after finishing the project.\n",
    "    def get_bloom(self):\n",
    "        return self.filter\n",
    "    "
   ]
  },
  {
   "cell_type": "code",
   "execution_count": 3,
   "id": "42f5ae58",
   "metadata": {
    "execution": {
     "iopub.execute_input": "2021-11-11T11:55:12.623072Z",
     "iopub.status.busy": "2021-11-11T11:55:12.622516Z",
     "iopub.status.idle": "2021-11-11T11:55:12.626491Z",
     "shell.execute_reply": "2021-11-11T11:55:12.626021Z",
     "shell.execute_reply.started": "2021-11-10T22:53:25.143603Z"
    },
    "papermill": {
     "duration": 0.017075,
     "end_time": "2021-11-11T11:55:12.626631",
     "exception": false,
     "start_time": "2021-11-11T11:55:12.609556",
     "status": "completed"
    },
    "tags": []
   },
   "outputs": [
    {
     "name": "stdout",
     "output_type": "stream",
     "text": [
      "Contents of the filter:\n",
      " {'PT 42531PT 42531': ['PT 42531PT 42531PT 42531', 'PT 42531PT 42531PT 42531'], 'PT 3455PT 3455': ['PT 3455PT 3455PT 3455']}\n",
      "\n",
      "Is \"PT 42531\" a member of the filter?\n",
      "-> True\n",
      "\n",
      "Is \"PT 3455\" a member of the filter?\n",
      "-> True\n",
      "\n",
      "Is \"PT 23452\" a member of the filter?\n",
      "-> False\n"
     ]
    }
   ],
   "source": [
    "# Tests just to see if the base implementation is working as expected.\n",
    "\n",
    "# Instancing the bloom filter\n",
    "bloom = BloomFilter()\n",
    "# Adding some mock NIBs to the filter\n",
    "nib = 'PT 42531'\n",
    "nib2 = 'PT 3455'\n",
    "nib3 = 'PT 23452'\n",
    "bloom.add_element(nib)\n",
    "bloom.add_element(nib)\n",
    "bloom.add_element(nib2)\n",
    "# Checking if the elements are present or not\n",
    "print('Contents of the filter:\\n',bloom.get_bloom())\n",
    "print(f'\\nIs \\\"{nib}\\\" a member of the filter?\\n->',bloom.is_member(nib))\n",
    "print(f'\\nIs \\\"{nib2}\\\" a member of the filter?\\n->',bloom.is_member(nib2))\n",
    "print(f'\\nIs \\\"{nib3}\\\" a member of the filter?\\n->',bloom.is_member(nib3))\n"
   ]
  },
  {
   "cell_type": "code",
   "execution_count": 4,
   "id": "a14d335b",
   "metadata": {
    "execution": {
     "iopub.execute_input": "2021-11-11T11:55:12.643974Z",
     "iopub.status.busy": "2021-11-11T11:55:12.643412Z",
     "iopub.status.idle": "2021-11-11T11:55:12.646100Z",
     "shell.execute_reply": "2021-11-11T11:55:12.646516Z"
    },
    "papermill": {
     "duration": 0.013127,
     "end_time": "2021-11-11T11:55:12.646689",
     "exception": false,
     "start_time": "2021-11-11T11:55:12.633562",
     "status": "completed"
    },
    "tags": []
   },
   "outputs": [],
   "source": [
    "# Inital data import\n",
    "# Still just a place holder, needs to be changed based on the file type.\n",
    "def import_data(file):\n",
    "    with open('file_to_be_imported', r) as file:\n",
    "        while file.readline() != None:\n",
    "            bloom.add_element(file.readline())"
   ]
  },
  {
   "cell_type": "code",
   "execution_count": null,
   "id": "f3833276",
   "metadata": {
    "papermill": {
     "duration": 0.004959,
     "end_time": "2021-11-11T11:55:12.657221",
     "exception": false,
     "start_time": "2021-11-11T11:55:12.652262",
     "status": "completed"
    },
    "tags": []
   },
   "outputs": [],
   "source": []
  }
 ],
 "metadata": {
  "kernelspec": {
   "display_name": "Python 3",
   "language": "python",
   "name": "python3"
  },
  "language_info": {
   "codemirror_mode": {
    "name": "ipython",
    "version": 3
   },
   "file_extension": ".py",
   "mimetype": "text/x-python",
   "name": "python",
   "nbconvert_exporter": "python",
   "pygments_lexer": "ipython3",
   "version": "3.7.10"
  },
  "papermill": {
   "default_parameters": {},
   "duration": 12.322241,
   "end_time": "2021-11-11T11:55:13.473306",
   "environment_variables": {},
   "exception": null,
   "input_path": "__notebook__.ipynb",
   "output_path": "__notebook__.ipynb",
   "parameters": {},
   "start_time": "2021-11-11T11:55:01.151065",
   "version": "2.3.3"
  }
 },
 "nbformat": 4,
 "nbformat_minor": 5
}
